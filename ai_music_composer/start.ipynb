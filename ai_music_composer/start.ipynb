{
 "cells": [
  {
   "cell_type": "code",
   "execution_count": 1,
   "metadata": {
    "collapsed": true
   },
   "outputs": [],
   "source": [
    "import music21\n",
    "import pathlib\n",
    "import pickle\n",
    "\n",
    "import numpy as np\n",
    "import matplotlib.pyplot as plt\n",
    "import tensorflow as tf\n",
    "from tensorflow import keras"
   ]
  },
  {
   "cell_type": "code",
   "execution_count": 2,
   "outputs": [],
   "source": [
    "# 输入 100 个音符，输出之后的一个音符\n",
    "input_notes_length = 100\n",
    "\n",
    "output_dir = 'Bach'\n",
    "generate_file = 'generate'"
   ],
   "metadata": {
    "collapsed": false,
    "pycharm": {
     "name": "#%%\n"
    }
   }
  },
  {
   "cell_type": "code",
   "execution_count": 3,
   "outputs": [],
   "source": [
    "def get_all_notes():\n",
    "    with open('output/{}/all_notes'.format(output_dir), 'rb') as f:\n",
    "        all_notes = pickle.load(f)\n",
    "\n",
    "    vocab = sorted(set(all_notes))\n",
    "    print(\"\\nvocab's length: \", len(vocab))\n",
    "    print(\"#notes: \", len(all_notes))\n",
    "    return all_notes, vocab"
   ],
   "metadata": {
    "collapsed": false,
    "pycharm": {
     "name": "#%%\n"
    }
   }
  },
  {
   "cell_type": "code",
   "execution_count": 4,
   "outputs": [],
   "source": [
    "def make_seq(all_notes, vocab):\n",
    "    # 建立 one-hot 词典\n",
    "    note_dict = {}\n",
    "    for i, note in enumerate(vocab):\n",
    "        note_dict[note] = i\n",
    "\n",
    "    num_training = len(all_notes) - input_notes_length\n",
    "    input_notes_in_vocab = np.zeros((num_training, input_notes_length, len(vocab)))\n",
    "    # output_notes_in_vocab = np.zeros((num_training, len(vocab)))\n",
    "\n",
    "    for i in range(num_training):\n",
    "        input_notes = all_notes[i: i + input_notes_length]\n",
    "        # output_note = all_notes[i + input_notes_length]\n",
    "        for j, note in enumerate(input_notes):\n",
    "            input_notes_in_vocab[i, j, note_dict[note]] = 1\n",
    "        # output_notes_in_vocab[i, note_dict[output_note]] = 1\n",
    "        print(\"\\r{} / {}\".format(i+1, num_training), end=\"\")\n",
    "    print()\n",
    "    return input_notes_in_vocab"
   ],
   "metadata": {
    "collapsed": false,
    "pycharm": {
     "name": "#%%\n"
    }
   }
  },
  {
   "cell_type": "code",
   "execution_count": 13,
   "outputs": [],
   "source": [
    "def choose_seq(input_notes_in_vocab):\n",
    "    # 随机挑选一个序列作为开始\n",
    "    n = np.random.randint(0, len(input_notes_in_vocab) - 1)\n",
    "    random_sequence = input_notes_in_vocab[n]\n",
    "    random_sequence = random_sequence[np.newaxis, :]\n",
    "    return random_sequence"
   ],
   "metadata": {
    "collapsed": false,
    "pycharm": {
     "name": "#%%\n"
    }
   }
  },
  {
   "cell_type": "code",
   "execution_count": 6,
   "outputs": [],
   "source": [
    "def build_network(num_vocab):\n",
    "    model = keras.Sequential([\n",
    "        keras.layers.LSTM(512, recurrent_dropout=0.3, return_sequences=True,\n",
    "                          input_shape=(input_notes_length, num_vocab)),\n",
    "        keras.layers.LSTM(512),\n",
    "        keras.layers.BatchNormalization(),\n",
    "        keras.layers.Dropout(0.3),\n",
    "        keras.layers.Dense(256, activation='relu'),\n",
    "        keras.layers.BatchNormalization(),\n",
    "        keras.layers.Dropout(0.3),\n",
    "        keras.layers.Dense(num_vocab, activation='softmax')\n",
    "    ])\n",
    "\n",
    "    model.compile(loss='categorical_crossentropy', optimizer='rmsprop', metrics=['acc'])\n",
    "    return model"
   ],
   "metadata": {
    "collapsed": false,
    "pycharm": {
     "name": "#%%\n"
    }
   }
  },
  {
   "cell_type": "code",
   "execution_count": 21,
   "outputs": [],
   "source": [
    "def predict(model, sequence, num_vocab):\n",
    "    outputs = []\n",
    "    for i in range(500):\n",
    "        newNote = model.predict(sequence, verbose=0)\n",
    "        note_in_vocab = np.argmax(newNote)\n",
    "        note = np.zeros(num_vocab)\n",
    "        note[note_in_vocab] = 1\n",
    "        outputs.append(note)\n",
    "\n",
    "        # 序列向前移动\n",
    "        sequence = sequence[0][1:]\n",
    "        sequence = np.concatenate((sequence, note[np.newaxis, :]))\n",
    "        sequence = sequence[np.newaxis, :]\n",
    "\n",
    "        print(\"\\rgenerating... {} / {}\".format(i+1, 500), end=\"\")\n",
    "\n",
    "    print()\n",
    "    print(len(outputs))\n",
    "    print(outputs[0])\n",
    "    return outputs"
   ],
   "metadata": {
    "collapsed": false,
    "pycharm": {
     "name": "#%%\n"
    }
   }
  },
  {
   "cell_type": "code",
   "execution_count": 8,
   "outputs": [],
   "source": [
    "def save_to_midi_file(sequence):\n",
    "\n",
    "    output_notes = []\n",
    "    for element in sequence:\n",
    "        note_in_vocab = list(element).index(1)\n",
    "        output_notes.append(vocab[note_in_vocab])\n",
    "\n",
    "    offset = 0\n",
    "\n",
    "    output_music_notes = []\n",
    "    for note in output_notes:\n",
    "        # chord\n",
    "        if ('.' in note) or note.isdigit():\n",
    "            notes_in_chord = note.split('.')\n",
    "            notes = []\n",
    "            for note_in_chord in notes_in_chord:\n",
    "                one_note = music21.note.Note(int(note_in_chord))\n",
    "                one_note.storedInstrument = music21.instrument.Piano()\n",
    "                notes.append(one_note)\n",
    "            new_chord = music21.chord.Chord(notes)\n",
    "            new_chord.offset = offset\n",
    "            output_music_notes.append(new_chord)\n",
    "        # note\n",
    "        else:\n",
    "            new_note = music21.note.Note(note)\n",
    "            new_note.offset = offset\n",
    "            new_note.storedInstrument = music21.instrument.Piano()\n",
    "            output_music_notes.append(new_note)\n",
    "\n",
    "        # 音符的位置 + 0.5\n",
    "        offset += 0.5\n",
    "\n",
    "    midi_stream = music21.stream.Stream(output_music_notes)\n",
    "    midi_stream.write('midi', fp='output/{}/{}.mid'.format(output_dir, generate_file))"
   ],
   "metadata": {
    "collapsed": false,
    "pycharm": {
     "name": "#%%\n"
    }
   }
  },
  {
   "cell_type": "code",
   "execution_count": 22,
   "outputs": [
    {
     "name": "stdout",
     "output_type": "stream",
     "text": [
      "\n",
      "vocab's length:  73\n",
      "#notes:  4586\n",
      "4486 / 4486\n",
      "generating... 500 / 500\n",
      "500\n",
      "[0. 0. 0. 0. 0. 0. 0. 0. 0. 0. 0. 0. 0. 0. 0. 0. 0. 0. 0. 0. 0. 0. 0. 0.\n",
      " 0. 0. 0. 0. 0. 0. 0. 0. 0. 0. 0. 0. 0. 0. 0. 0. 0. 0. 0. 0. 0. 0. 0. 0.\n",
      " 0. 0. 0. 0. 0. 0. 1. 0. 0. 0. 0. 0. 0. 0. 0. 0. 0. 0. 0. 0. 0. 0. 0. 0.\n",
      " 0.]\n"
     ]
    }
   ],
   "source": [
    "all_notes, vocab = get_all_notes()\n",
    "inputs = make_seq(all_notes, vocab)\n",
    "seq = choose_seq(inputs)\n",
    "model = build_network(len(vocab))\n",
    "model.load_weights('output/{}/weights.h5'.format(output_dir))\n",
    "seq = predict(model, seq, len(vocab))\n",
    "save_to_midi_file(seq)"
   ],
   "metadata": {
    "collapsed": false,
    "pycharm": {
     "name": "#%%\n"
    }
   }
  },
  {
   "cell_type": "code",
   "execution_count": null,
   "outputs": [],
   "source": [
    "\n"
   ],
   "metadata": {
    "collapsed": false,
    "pycharm": {
     "name": "#%%\n"
    }
   }
  }
 ],
 "metadata": {
  "kernelspec": {
   "display_name": "Python 3",
   "language": "python",
   "name": "python3"
  },
  "language_info": {
   "codemirror_mode": {
    "name": "ipython",
    "version": 2
   },
   "file_extension": ".py",
   "mimetype": "text/x-python",
   "name": "python",
   "nbconvert_exporter": "python",
   "pygments_lexer": "ipython2",
   "version": "2.7.6"
  }
 },
 "nbformat": 4,
 "nbformat_minor": 0
}